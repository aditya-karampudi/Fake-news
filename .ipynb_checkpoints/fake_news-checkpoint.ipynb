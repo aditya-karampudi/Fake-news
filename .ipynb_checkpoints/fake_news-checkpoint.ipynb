{
 "cells": [
  {
   "cell_type": "code",
   "execution_count": 1,
   "metadata": {
    "collapsed": true
   },
   "outputs": [],
   "source": [
    "import numpy as np # linear algebra\n",
    "import pandas as pd # data processing, CSV file I/O (e.g. pd.read_csv)\n",
    "import matplotlib.pyplot as plt\n",
    "import matplotlib\n",
    "matplotlib.get_backend()\n",
    "matplotlib.matplotlib_fname()\n",
    "matplotlib.style.use('ggplot')\n",
    "from subprocess import check_output"
   ]
  },
  {
   "cell_type": "code",
   "execution_count": 54,
   "metadata": {
    "scrolled": true
   },
   "outputs": [
    {
     "data": {
      "text/html": [
       "<div>\n",
       "<style>\n",
       "    .dataframe thead tr:only-child th {\n",
       "        text-align: right;\n",
       "    }\n",
       "\n",
       "    .dataframe thead th {\n",
       "        text-align: left;\n",
       "    }\n",
       "\n",
       "    .dataframe tbody tr th {\n",
       "        vertical-align: top;\n",
       "    }\n",
       "</style>\n",
       "<table border=\"1\" class=\"dataframe\">\n",
       "  <thead>\n",
       "    <tr style=\"text-align: right;\">\n",
       "      <th></th>\n",
       "      <th>title</th>\n",
       "      <th>text</th>\n",
       "      <th>label</th>\n",
       "    </tr>\n",
       "  </thead>\n",
       "  <tbody>\n",
       "    <tr>\n",
       "      <th>0</th>\n",
       "      <td>You Can Smell Hillary’s Fear</td>\n",
       "      <td>Daniel Greenfield, a Shillman Journalism Fello...</td>\n",
       "      <td>FAKE</td>\n",
       "    </tr>\n",
       "    <tr>\n",
       "      <th>1</th>\n",
       "      <td>Watch The Exact Moment Paul Ryan Committed Pol...</td>\n",
       "      <td>Google Pinterest Digg Linkedin Reddit Stumbleu...</td>\n",
       "      <td>FAKE</td>\n",
       "    </tr>\n",
       "    <tr>\n",
       "      <th>2</th>\n",
       "      <td>Kerry to go to Paris in gesture of sympathy</td>\n",
       "      <td>U.S. Secretary of State John F. Kerry said Mon...</td>\n",
       "      <td>REAL</td>\n",
       "    </tr>\n",
       "    <tr>\n",
       "      <th>3</th>\n",
       "      <td>Bernie supporters on Twitter erupt in anger ag...</td>\n",
       "      <td>— Kaydee King (@KaydeeKing) November 9, 2016 T...</td>\n",
       "      <td>FAKE</td>\n",
       "    </tr>\n",
       "    <tr>\n",
       "      <th>4</th>\n",
       "      <td>The Battle of New York: Why This Primary Matters</td>\n",
       "      <td>It's primary day in New York and front-runners...</td>\n",
       "      <td>REAL</td>\n",
       "    </tr>\n",
       "    <tr>\n",
       "      <th>5</th>\n",
       "      <td>Tehran, USA</td>\n",
       "      <td>\\nI’m not an immigrant, but my grandparents ...</td>\n",
       "      <td>FAKE</td>\n",
       "    </tr>\n",
       "    <tr>\n",
       "      <th>6</th>\n",
       "      <td>Girl Horrified At What She Watches Boyfriend D...</td>\n",
       "      <td>Share This Baylee Luciani (left), Screenshot o...</td>\n",
       "      <td>FAKE</td>\n",
       "    </tr>\n",
       "    <tr>\n",
       "      <th>7</th>\n",
       "      <td>‘Britain’s Schindler’ Dies at 106</td>\n",
       "      <td>A Czech stockbroker who saved more than 650 Je...</td>\n",
       "      <td>REAL</td>\n",
       "    </tr>\n",
       "    <tr>\n",
       "      <th>8</th>\n",
       "      <td>Fact check: Trump and Clinton at the 'commande...</td>\n",
       "      <td>Hillary Clinton and Donald Trump made some ina...</td>\n",
       "      <td>REAL</td>\n",
       "    </tr>\n",
       "    <tr>\n",
       "      <th>9</th>\n",
       "      <td>Iran reportedly makes new push for uranium con...</td>\n",
       "      <td>Iranian negotiators reportedly have made a las...</td>\n",
       "      <td>REAL</td>\n",
       "    </tr>\n",
       "  </tbody>\n",
       "</table>\n",
       "</div>"
      ],
      "text/plain": [
       "                                               title  \\\n",
       "0                       You Can Smell Hillary’s Fear   \n",
       "1  Watch The Exact Moment Paul Ryan Committed Pol...   \n",
       "2        Kerry to go to Paris in gesture of sympathy   \n",
       "3  Bernie supporters on Twitter erupt in anger ag...   \n",
       "4   The Battle of New York: Why This Primary Matters   \n",
       "5                                        Tehran, USA   \n",
       "6  Girl Horrified At What She Watches Boyfriend D...   \n",
       "7                  ‘Britain’s Schindler’ Dies at 106   \n",
       "8  Fact check: Trump and Clinton at the 'commande...   \n",
       "9  Iran reportedly makes new push for uranium con...   \n",
       "\n",
       "                                                text label  \n",
       "0  Daniel Greenfield, a Shillman Journalism Fello...  FAKE  \n",
       "1  Google Pinterest Digg Linkedin Reddit Stumbleu...  FAKE  \n",
       "2  U.S. Secretary of State John F. Kerry said Mon...  REAL  \n",
       "3  — Kaydee King (@KaydeeKing) November 9, 2016 T...  FAKE  \n",
       "4  It's primary day in New York and front-runners...  REAL  \n",
       "5    \\nI’m not an immigrant, but my grandparents ...  FAKE  \n",
       "6  Share This Baylee Luciani (left), Screenshot o...  FAKE  \n",
       "7  A Czech stockbroker who saved more than 650 Je...  REAL  \n",
       "8  Hillary Clinton and Donald Trump made some ina...  REAL  \n",
       "9  Iranian negotiators reportedly have made a las...  REAL  "
      ]
     },
     "execution_count": 54,
     "metadata": {},
     "output_type": "execute_result"
    }
   ],
   "source": [
    "fake_news = pd.read_csv(\"fake_or_real_news.csv\",index_col=\"Unnamed: 0\")\n",
    "fake_news = fake_news.reset_index(drop=True)\n",
    "fake_news.head(10)"
   ]
  },
  {
   "cell_type": "code",
   "execution_count": 55,
   "metadata": {},
   "outputs": [
    {
     "data": {
      "text/plain": [
       "label\n",
       "FAKE    3164\n",
       "REAL    3171\n",
       "Name: text, dtype: int64"
      ]
     },
     "execution_count": 55,
     "metadata": {},
     "output_type": "execute_result"
    }
   ],
   "source": [
    "fake_news.groupby(['label'])['text'].count()"
   ]
  },
  {
   "cell_type": "code",
   "execution_count": 56,
   "metadata": {},
   "outputs": [
    {
     "data": {
      "text/html": [
       "<div>\n",
       "<style>\n",
       "    .dataframe thead tr:only-child th {\n",
       "        text-align: right;\n",
       "    }\n",
       "\n",
       "    .dataframe thead th {\n",
       "        text-align: left;\n",
       "    }\n",
       "\n",
       "    .dataframe tbody tr th {\n",
       "        vertical-align: top;\n",
       "    }\n",
       "</style>\n",
       "<table border=\"1\" class=\"dataframe\">\n",
       "  <thead>\n",
       "    <tr style=\"text-align: right;\">\n",
       "      <th></th>\n",
       "      <th>title</th>\n",
       "      <th>text</th>\n",
       "      <th>label</th>\n",
       "    </tr>\n",
       "  </thead>\n",
       "  <tbody>\n",
       "    <tr>\n",
       "      <th>0</th>\n",
       "      <td>You Can Smell Hillary’s Fear</td>\n",
       "      <td>Daniel Greenfield, a Shillman Journalism Fello...</td>\n",
       "      <td>0</td>\n",
       "    </tr>\n",
       "    <tr>\n",
       "      <th>1</th>\n",
       "      <td>Watch The Exact Moment Paul Ryan Committed Pol...</td>\n",
       "      <td>Google Pinterest Digg Linkedin Reddit Stumbleu...</td>\n",
       "      <td>0</td>\n",
       "    </tr>\n",
       "    <tr>\n",
       "      <th>2</th>\n",
       "      <td>Kerry to go to Paris in gesture of sympathy</td>\n",
       "      <td>U.S. Secretary of State John F. Kerry said Mon...</td>\n",
       "      <td>1</td>\n",
       "    </tr>\n",
       "    <tr>\n",
       "      <th>3</th>\n",
       "      <td>Bernie supporters on Twitter erupt in anger ag...</td>\n",
       "      <td>— Kaydee King (@KaydeeKing) November 9, 2016 T...</td>\n",
       "      <td>0</td>\n",
       "    </tr>\n",
       "    <tr>\n",
       "      <th>4</th>\n",
       "      <td>The Battle of New York: Why This Primary Matters</td>\n",
       "      <td>It's primary day in New York and front-runners...</td>\n",
       "      <td>1</td>\n",
       "    </tr>\n",
       "  </tbody>\n",
       "</table>\n",
       "</div>"
      ],
      "text/plain": [
       "                                               title  \\\n",
       "0                       You Can Smell Hillary’s Fear   \n",
       "1  Watch The Exact Moment Paul Ryan Committed Pol...   \n",
       "2        Kerry to go to Paris in gesture of sympathy   \n",
       "3  Bernie supporters on Twitter erupt in anger ag...   \n",
       "4   The Battle of New York: Why This Primary Matters   \n",
       "\n",
       "                                                text  label  \n",
       "0  Daniel Greenfield, a Shillman Journalism Fello...      0  \n",
       "1  Google Pinterest Digg Linkedin Reddit Stumbleu...      0  \n",
       "2  U.S. Secretary of State John F. Kerry said Mon...      1  \n",
       "3  — Kaydee King (@KaydeeKing) November 9, 2016 T...      0  \n",
       "4  It's primary day in New York and front-runners...      1  "
      ]
     },
     "execution_count": 56,
     "metadata": {},
     "output_type": "execute_result"
    }
   ],
   "source": [
    "fake_news['label'] = fake_news['label'].map({'FAKE': 0, 'REAL': 1})\n",
    "fake_news.head()"
   ]
  },
  {
   "cell_type": "code",
   "execution_count": 57,
   "metadata": {},
   "outputs": [
    {
     "name": "stderr",
     "output_type": "stream",
     "text": [
      "C:\\Users\\mohad\\Anaconda3\\lib\\site-packages\\matplotlib\\axes\\_axes.py:545: UserWarning: No labelled objects found. Use label='...' kwarg on individual plots.\n",
      "  warnings.warn(\"No labelled objects found. \"\n"
     ]
    },
    {
     "data": {
      "image/png": "[encoded data removed]",
      "text/plain": [
       "<matplotlib.figure.Figure at 0x1c5d731b0b8>"
      ]
     },
     "metadata": {},
     "output_type": "display_data"
    }
   ],
   "source": [
    "#creting a bar graph for number of emails in each class\n",
    "from matplotlib import pyplot as plt\n",
    "x=[-1,1]\n",
    "y=[3164, 3171]\n",
    "\n",
    "plt.bar(x,y)\n",
    "plt.xlabel('type of sentiment')\n",
    "plt.ylabel('count')\n",
    "plt.title('number of fake and true news')\n",
    "plt.legend()\n",
    "plt.show()"
   ]
  },
  {
   "cell_type": "code",
   "execution_count": 58,
   "metadata": {
    "collapsed": true
   },
   "outputs": [],
   "source": [
    "#dataframe[\"period\"] = dataframe[\"Year\"].map(str) + dataframe[\"quarter\"]\n",
    "df = pd.DataFrame()\n",
    "df[\"text\"] = fake_news['title'].map(str)+ \" \" + fake_news['text']\n",
    "df['label'] = fake_news['label']\n",
    "\n",
    "\n",
    "df['text'] = df['text'].str.lower()\n",
    "only_text = pd.DataFrame()\n",
    "only_text = df['text']\n"
   ]
  },
  {
   "cell_type": "code",
   "execution_count": 59,
   "metadata": {
    "scrolled": true
   },
   "outputs": [
    {
     "data": {
      "text/plain": [
       "'senate majority leaders main goal gop dont scary mitch mcconnell unusual admonition republican majority takes senate week dont scary incoming senate majority leader political goal next years overseeing functioning reasonable majority capitol hill scores measured conservative wins particularly environmental regulations probably victories full repeal healthcare law mcconnells priority stage potential presidential victory  dont want american people think republican president republican congress thats going scary outcome want american people comfortable fact republican house senate responsible governing majority kentucky republican said broad interview christmas capitol office its defiant declaration  single important goal make president obama oneterm president antagonizing oath democrats frequently invoke embarrass leader obama reelection comfortably  mcconnells party lost seats charge ends capitol republicans avoid worst excesses past four years make sure public isnt fearful gops course there would nothing frightening adding republican president governing majority mcconnell said explaining wants voters view party  election think thats single best thing mess playing field will whoever nominee ultimately is mcconnell become majority leader tuesday planning avoid conflict altogether wants annual spending bills compel obama accept conservative policy riders divide democrats similar december spending bills inclusion provision benefiting wall street firms involved risky derivative trades rider brought liberal outcry torpedoing bill obamas support mcconnell coaching members understand that initial rounds almost unanimously support budget outline spending bills democrats support policy riders republicans caucus mcconnell knows hes long getting votes override obama veto wont even easy getting democrats regularly support legislation overcome likely filibusters incoming minority leader sen harry reid dnev still issues energy taxes health industry mcconnell thinks theres enough bipartisan support bills onto obamas desk theyd like relevant theyd like part process said discussions rankandfile democrats assuming issues largely unified conference dont expect everything wouldnt take whole democrats actually pass legislation senate mcconnell said craving grand deal measure next years lower expectations hes skeptical bargains democrats tough issues immigration entitlement reform instead believes three issues potential common ground international trade deals overhaul code revenue streams infrastructure projects could country more bet theres overcome reluctant president something ly large mcconnell said best bigger issues force obama break veto clear democratic policy stances republicans campaign  democrats dubious mcconnells pledge avert moments believe problems bedeviled house speaker john boehner rohio past four years including inability corral rabblerousers sen cruz rtex support agenda conservative critics probably view bold enough challenging obama appeasing farright conservatives lead agenda democrats hope exploit  what senator mcconnell wants people think think results different things said reids spokesman adam jentleson senator mcconnell heads caucus obsessed rigging game working people favor wealthy special interests thats scary fact indeed wont able hide it mcconnells office adorned portrait kentuckys senate majority leader alben barkley whose tenure often marked clashes partys president franklin roosevelt model resembles george mitchell democratic majority leader   without ever shutting government mitchell stared president opposite party george hw bush several liberal victories  budget showdown mitchell also delivered slew legislation bushs desk drew veto helping frame debate  election domestic policy mcconnell recently studied twoterm presidents often vetoed legislation last years office obama issued minor vetoes technical matters largely previously democraticrun senate prevented anything reaching desk opposed mcconnell suggested veto strategy would help clarify issues voters think bureaucracy across board done damage country least like personally take responsibility even decides veto bill restriction regulations mcconnell keenly aware challenges reining impulses fellow republican lawmakers developed eight straight years minority first test come energy debate could begin week mcconnell trying keep side offering amendments related energy issues recent years rankandfile republicans wanted stop senate tracks would threaten amendments related congress gets health care ive asked members restrain themselves said restraint hard come political era particularly small army conservative groups made mission push republicans strident stands even means shutting government risking default national debt mcconnell faced groups firsthand supported  primary challenger faced grinding general election democrat well financed cost nearly million campaign chest tens millions dollars outside groups winning races handily mcconnell delivering message republicans behave heading  dont reinvent yourself yourself number one dont afraid primary primaries   mcconnell said shortly election fall mcconnell obama rare oneonone meeting oval office huddle sides kept largely secret prechristmas interview mcconnell acknowledged meetings purpose discuss areas president republicans might find bipartisan agreement disagreements issues intractable meeting said focused trade deals code overhaul infrastructure funding can reform trade said eschewed idea holding debt ceiling hostage gain spendingcut concessions obama tool republicans minority majority pass budget determine much were going spend said avoiding moments could make less scary congress giving republicans better chance  trifecta gain white house horse already chosen sen rand paul rky dont expect mcconnell campaign trail favors homestate colleague im going supporting rand paul knows beyond that wont involved presidential politics ive here said'"
      ]
     },
     "execution_count": 59,
     "metadata": {},
     "output_type": "execute_result"
    }
   ],
   "source": [
    "#removing stopwords\n",
    "import re\n",
    "from nltk.corpus import stopwords\n",
    "stop = stopwords.words('english')\n",
    "only_text = only_text.apply(lambda x: ' '.join([word for word in x.split() if word not in (stop)]))\n",
    "\n",
    "#data cleaning\n",
    "#1. it is seen that there are hyperlinks present, so lets remove the hyperlinks\n",
    "#also taking only those words which have length less than 15letters and greater than 2 into 'a'\n",
    "#p=re.compile(r'\\<http.+?\\>', re.DOTALL)\n",
    "a = []\n",
    "b=[]\n",
    "new_string = []\n",
    "for i in only_text:\n",
    "    #b =re.sub(p, '', i)    \n",
    "    b = ' '.join([w for w in i.split() if len(w)<15])\n",
    "    b = ' '.join([w for w in b.split() if len(w)>3])\n",
    "    a.append(b)\n",
    "\n",
    "#creating pandas dataframe and then converting it into panda series \n",
    "#removing all the characters except a-z cause we do not need numbers for sentiment analysis\n",
    "#removing words am, pm, suriyah krishnan\n",
    "only_text_pd = pd.DataFrame({'text':a})\n",
    "only_text_se = only_text_pd['text']\n",
    "only_text_se= only_text_se.str.replace('[^a-z \\n]',\"\")\n",
    "only_text_se = only_text_se.str.replace('fake|real', \"\")\n",
    "\n",
    "only_text_se[23] #processed text"
   ]
  },
  {
   "cell_type": "code",
   "execution_count": 60,
   "metadata": {},
   "outputs": [
    {
     "data": {
      "text/plain": [
       "'new senate majority leader’s main goal gop: don’t scary mitch mcconnell unusual admonition new republican majority takes senate week: don’t “scary.” incoming senate majority leader set political goal next two years overseeing functioning, reasonable majority capitol hill scores measured conservative wins, particularly environmental regulations, probably big victories full repeal health-care law. mcconnell’s priority set stage potential gop presidential victory 2016. “i don’t want american people think add republican president republican congress, that’s going scary outcome. want american people comfortable fact republican house senate responsible, right-of-center, governing majority,” kentucky republican said broad interview christmas capitol office. it’s far cry defiant declaration 2010 “single important” goal make president obama one-term president, antagonizing oath democrats frequently invoke embarrass gop leader — obama reelection comfortably 2012, mcconnell’s party lost seats. charge ends capitol, republicans aim avoid worst excesses past four years make sure public isn’t fearful gop’s course. “there would nothing frightening adding republican president governing majority,” mcconnell said, explaining wants voters view party eve 2016 election. “i think that’s single best thing do, mess playing field, will, whoever nominee ultimately is.” mcconnell, become majority leader tuesday, planning avoid conflict altogether. wants use annual spending bills compel obama accept conservative policy riders divide democrats, similar december spending bill’s inclusion provision benefiting wall street firms involved risky derivative trades. rider brought liberal outcry end torpedoing bill, obama’s support. mcconnell coaching members understand that, initial rounds, almost unanimously support budget outline spending bills, democrats support policy riders. 54 republicans caucus, mcconnell knows he’s long way getting 67 votes override obama veto won’t even easy getting six democrats regularly support legislation overcome likely filibusters led incoming minority leader, sen. harry m. reid (d-nev.). still, issues, energy taxes health industry, mcconnell thinks there’s enough bipartisan support get bills onto obama’s desk. “they’d like relevant. they’d like part process,” said discussions rank-and-file democrats. “assuming issues largely unified conference — don’t expect everything — wouldn’t take whole lot democrats actually pass legislation senate.” mcconnell said “craving grand deal way measure next two years” lower expectations. he’s skeptical bargains democrats tough issues immigration entitlement reform. instead, believes three issues potential common ground: international trade deals, overhaul tax code new revenue streams infrastructure projects. “could country use lot more? bet. there’s way overcome reluctant president something really large,” mcconnell said. best bigger issues force obama break veto pen clear set democratic policy stances republicans campaign 2016. democrats dubious mcconnell’s pledge avert edge-of-the-cliff moments. believe run problems bedeviled house speaker john a. boehner (r-ohio) past four years — including inability corral rabble-rousers sen. ted cruz (r-tex.) support agenda conservative critics probably view bold enough challenging obama. appeasing far-right conservatives lead agenda democrats hope exploit 2016. “what senator mcconnell wants people think think see results two different things,” said reid’s spokesman, adam jentleson. “senator mcconnell heads caucus obsessed rigging game working people favor wealthy special interests. that’s scary fact indeed, won’t able hide it.” mcconnell’s office adorned portrait kentucky’s senate majority leader — alben w. barkley, whose tenure often marked clashes party’s president, franklin d. roosevelt — model resembles george mitchell, democratic majority leader 1989 1994. without ever shutting government, mitchell stared president opposite party, george h.w. bush, several liberal victories 1990 budget showdown. mitchell also delivered slew legislation bush’s desk drew veto, helping frame debate 1992 election domestic policy. mcconnell recently studied two-term presidents often vetoed legislation last two years office. obama issued two minor vetoes technical matters, largely previously democratic-run senate prevented anything reaching desk opposed. mcconnell suggested veto strategy would help clarify issues voters. “i think bureaucracy across board done lot damage country. . . . i’d least like personally take responsibility it, even end decides veto bill restriction epa regulations.” mcconnell keenly aware challenges reining impulses fellow republican lawmakers developed eight straight years minority. first test come energy debate, could begin end week. mcconnell trying keep side offering amendments related energy issues. recent years, rank-and-file republicans wanted stop senate tracks, would threaten amendments related congress gets health care. “i’ve asked members restrain themselves,” said. restraint hard come political era, particularly small army conservative groups made mission push republicans strident stands, even means shutting government risking default national debt. mcconnell faced groups firsthand supported 2014 primary challenger, faced grinding general election democrat well financed. cost nearly $30 million campaign war chest tens millions dollars outside groups. winning races handily, mcconnell delivering message republicans behave heading 2016. “don’t try reinvent yourself. yourself, number one. don’t afraid primary. win primaries. ’14. ’16,” mcconnell said. shortly election day fall, mcconnell sat obama rare one-on-one meeting oval office, huddle sides kept largely secret. pre-christmas interview, mcconnell acknowledged meeting’s purpose discuss areas president republicans might find bipartisan agreement — disagreements issues in\\xadtrac\\xadtable. meeting, said, focused trade deals, tax code overhaul infrastructure funding. “can get tax reform, trade, infrastructure?” said. eschewed idea holding debt ceiling hostage gain spending-cut concessions obama, tool republicans use minority. “we majority. pass budget. determine much we’re going spend,” said. avoiding moments could make less “scary” congress, giving republicans better chance 2016 hit trifecta gain white house. horse already chosen, sen. rand paul (r-ky.), don’t expect mcconnell campaign trail favors home-state colleague. “i’m going supporting rand paul. knows beyond that, won’t involved presidential politics. i’ve got big job here,” said.'"
      ]
     },
     "execution_count": 60,
     "metadata": {},
     "output_type": "execute_result"
    }
   ],
   "source": [
    "only_text[23]"
   ]
  },
  {
   "cell_type": "code",
   "execution_count": null,
   "metadata": {
    "collapsed": true
   },
   "outputs": [],
   "source": []
  },
  {
   "cell_type": "code",
   "execution_count": 61,
   "metadata": {},
   "outputs": [
    {
     "name": "stdout",
     "output_type": "stream",
     "text": [
      "(4751,)\n",
      "(1584,)\n",
      "(4751,)\n",
      "(1584,)\n"
     ]
    }
   ],
   "source": [
    "#creating series of pandas\n",
    "X= only_text_se\n",
    "y= df['label']\n",
    "\n",
    "#splitting the data into train and test\n",
    "from sklearn.cross_validation import train_test_split\n",
    "X_train, X_test, y_train, y_test = train_test_split(X, y, random_state=1)\n",
    "print(X_train.shape)\n",
    "print(X_test.shape)\n",
    "print(y_train.shape)\n",
    "print(y_test.shape)"
   ]
  },
  {
   "cell_type": "code",
   "execution_count": null,
   "metadata": {
    "collapsed": true
   },
   "outputs": [],
   "source": []
  },
  {
   "cell_type": "code",
   "execution_count": 9,
   "metadata": {
    "collapsed": true
   },
   "outputs": [],
   "source": [
    "import itertools\n",
    "def plot_confusion_matrix(cm, classes,\n",
    "                          normalize=False,\n",
    "                          title='Confusion matrix',\n",
    "                          cmap=plt.cm.Blues):\n",
    "    \"\"\"\n",
    "    See full source and example: \n",
    "    http://scikit-learn.org/stable/auto_examples/model_selection/plot_confusion_matrix.html\n",
    "    \n",
    "    This function prints and plots the confusion matrix.\n",
    "    Normalization can be applied by setting `normalize=True`.\n",
    "    \"\"\"\n",
    "    plt.imshow(cm, interpolation='nearest', cmap=cmap)\n",
    "    plt.title(title)\n",
    "    plt.colorbar()\n",
    "    tick_marks = np.arange(len(classes))\n",
    "    plt.xticks(tick_marks, classes, rotation=45)\n",
    "    plt.yticks(tick_marks, classes)\n",
    "\n",
    "    if normalize:\n",
    "        cm = cm.astype('float') / cm.sum(axis=1)[:, np.newaxis]\n",
    "        print(\"Normalized confusion matrix\")\n",
    "    else:\n",
    "        print('Confusion matrix, without normalization')\n",
    "\n",
    "    thresh = cm.max() / 2.\n",
    "    for i, j in itertools.product(range(cm.shape[0]), range(cm.shape[1])):\n",
    "        plt.text(j, i, cm[i, j],\n",
    "                 horizontalalignment=\"center\",\n",
    "                 color=\"white\" if cm[i, j] > thresh else \"black\")\n",
    "\n",
    "    plt.tight_layout()\n",
    "    plt.ylabel('True label')\n",
    "    plt.xlabel('Predicted label')"
   ]
  },
  {
   "cell_type": "code",
   "execution_count": 62,
   "metadata": {
    "collapsed": true
   },
   "outputs": [],
   "source": [
    "#initiating count vectorizer and removing stop words\n",
    "from sklearn.feature_extraction.text import CountVectorizer\n",
    "from sklearn.feature_extraction.text import TfidfVectorizer\n",
    "\n",
    "vect = CountVectorizer(stop_words='english',max_df=.3)"
   ]
  },
  {
   "cell_type": "code",
   "execution_count": 63,
   "metadata": {},
   "outputs": [
    {
     "data": {
      "text/plain": [
       "<4751x65285 sparse matrix of type '<class 'numpy.int64'>'\n",
       "\twith 1127913 stored elements in Compressed Sparse Row format>"
      ]
     },
     "execution_count": 63,
     "metadata": {},
     "output_type": "execute_result"
    }
   ],
   "source": [
    "#fitting train data and then transforming it to count matrix\n",
    "X_train_dtm = vect.fit_transform(X_train)\n",
    "X_train_dtm"
   ]
  },
  {
   "cell_type": "code",
   "execution_count": 64,
   "metadata": {},
   "outputs": [
    {
     "data": {
      "text/plain": [
       "<1584x65285 sparse matrix of type '<class 'numpy.int64'>'\n",
       "\twith 369861 stored elements in Compressed Sparse Row format>"
      ]
     },
     "execution_count": 64,
     "metadata": {},
     "output_type": "execute_result"
    }
   ],
   "source": [
    "#transforming the test data into the count matrix initiated for train data\n",
    "#no fitting takes place\n",
    "X_test_dtm = vect.transform(X_test)\n",
    "X_test_dtm"
   ]
  },
  {
   "cell_type": "code",
   "execution_count": null,
   "metadata": {
    "collapsed": true
   },
   "outputs": [],
   "source": []
  },
  {
   "cell_type": "code",
   "execution_count": null,
   "metadata": {
    "collapsed": true
   },
   "outputs": [],
   "source": []
  },
  {
   "cell_type": "code",
   "execution_count": null,
   "metadata": {
    "collapsed": true
   },
   "outputs": [],
   "source": []
  },
  {
   "cell_type": "code",
   "execution_count": null,
   "metadata": {
    "collapsed": true
   },
   "outputs": [],
   "source": []
  },
  {
   "cell_type": "markdown",
   "metadata": {},
   "source": [
    "### Naive Bayes"
   ]
  },
  {
   "cell_type": "code",
   "execution_count": 13,
   "metadata": {
    "collapsed": true
   },
   "outputs": [],
   "source": [
    "from sklearn.naive_bayes import MultinomialNB\n",
    "nb = MultinomialNB()\n",
    "\n",
    "#fitting the model into train data \n",
    "nb.fit(X_train_dtm, y_train)\n",
    "\n",
    "#predicting the model on train and test data\n",
    "y_pred_class_test = nb.predict(X_test_dtm)\n",
    "y_pred_class_train = nb.predict(X_train_dtm)"
   ]
  },
  {
   "cell_type": "code",
   "execution_count": 14,
   "metadata": {},
   "outputs": [
    {
     "data": {
      "text/plain": [
       "array(['REAL', 'FAKE', 'FAKE', ..., 'REAL', 'REAL', 'REAL'], \n",
       "      dtype='<U4')"
      ]
     },
     "execution_count": 14,
     "metadata": {},
     "output_type": "execute_result"
    }
   ],
   "source": [
    "nb.predict(X_test_dtm)"
   ]
  },
  {
   "cell_type": "code",
   "execution_count": 15,
   "metadata": {
    "scrolled": true
   },
   "outputs": [
    {
     "data": {
      "text/plain": [
       "'announces troop deployment near russias borders military british defense secretary michael fallon photo afp british defense minister michael fallon says deploy hundreds troops baltic region europe support nato allies face more assertive russia fallon told nato ministerial meeting brussels wednesday britain would send soldiers estonia fulfill pledge deliver four battalions natos enhanced forward presence eastern europe backed rising defense budget deployment air land forces shows continue play leading role nato supporting defense security allies north south alliance fallon said nato announced july would deploy rotational basis four multinational battalions poland baltic latvia lithuaniato deter referred any russian incursion address meeting fallon also said four british typhoon fighter jets would dispatched romania nato southern policing mission supposed protect baltic states airspace possible attacks russia this things reassurance needs done formidable presence deterrence fallon said earlier interview this simply serious military presence move likely draw criticism moscow angered natos military buildup western borders usled military alliance ties moscow  reinforcing presence near russias borders ever since russia strong disagreements number issues mainly conflicts syria ukraine countries military forces involved series aerial naval britain sending jets warships several occasions intercept russian bombers naval fleets latest encounters occurred thursday russian aircraft career admiral kuznetsov sevenship task force shadowed british warships course sail north english channel syria loading'"
      ]
     },
     "execution_count": 15,
     "metadata": {},
     "output_type": "execute_result"
    }
   ],
   "source": [
    "X_test.iloc[1]"
   ]
  },
  {
   "cell_type": "code",
   "execution_count": null,
   "metadata": {
    "collapsed": true
   },
   "outputs": [],
   "source": []
  },
  {
   "cell_type": "code",
   "execution_count": 16,
   "metadata": {},
   "outputs": [
    {
     "name": "stdout",
     "output_type": "stream",
     "text": [
      "0.886363636364\n",
      "0.944432751\n"
     ]
    }
   ],
   "source": [
    "# calculate accuracy of class predictions\n",
    "from sklearn import metrics\n",
    "print(metrics.accuracy_score(y_test, y_pred_class_test))\n",
    "print(metrics.accuracy_score(y_train, y_pred_class_train))"
   ]
  },
  {
   "cell_type": "code",
   "execution_count": 17,
   "metadata": {},
   "outputs": [
    {
     "name": "stdout",
     "output_type": "stream",
     "text": [
      "Confusion matrix, without normalization\n"
     ]
    }
   ],
   "source": [
    "# print the confusion matrix\n",
    "cm = metrics.confusion_matrix(y_test, y_pred_class_test)\n",
    "plot_confusion_matrix(cm,classes=['FAKE', 'REAL'])"
   ]
  },
  {
   "cell_type": "code",
   "execution_count": 18,
   "metadata": {},
   "outputs": [
    {
     "data": {
      "text/plain": [
       "array([[682, 135],\n",
       "       [ 45, 722]])"
      ]
     },
     "execution_count": 18,
     "metadata": {},
     "output_type": "execute_result"
    }
   ],
   "source": [
    "cm"
   ]
  },
  {
   "cell_type": "code",
   "execution_count": 19,
   "metadata": {},
   "outputs": [
    {
     "data": {
      "text/plain": [
       "FAKE    817\n",
       "REAL    767\n",
       "Name: label, dtype: int64"
      ]
     },
     "execution_count": 19,
     "metadata": {},
     "output_type": "execute_result"
    }
   ],
   "source": [
    "#number of records in each class in test data\n",
    "y_test.value_counts()"
   ]
  },
  {
   "cell_type": "code",
   "execution_count": 20,
   "metadata": {},
   "outputs": [
    {
     "data": {
      "text/plain": [
       "65285"
      ]
     },
     "execution_count": 20,
     "metadata": {},
     "output_type": "execute_result"
    }
   ],
   "source": [
    "# store the vocabulary of X_train\n",
    "X_train_tokens = vect.get_feature_names()\n",
    "len(X_train_tokens)"
   ]
  },
  {
   "cell_type": "code",
   "execution_count": 21,
   "metadata": {},
   "outputs": [
    {
     "name": "stdout",
     "output_type": "stream",
     "text": [
      "['aa', 'aaaa', 'aaas', 'aab', 'aachen', 'aadhar', 'aadmi', 'aae', 'aaiball', 'aakar', 'aakhri', 'aalia', 'aaliya', 'aaliyas', 'aall', 'aamaq', 'aamon', 'aap', 'aapke', 'aapko', 'aapne', 'aarhus', 'aaron', 'aarons', 'aaronson', 'aaronsons', 'aarp', 'aart', 'aas', 'aaso', 'aata', 'aauw', 'aauws', 'aaye', 'aayush', 'ab', 'abaaoud', 'abaaouds', 'ababa', 'aback', 'abad', 'abadi', 'abadis', 'abaldo', 'aban', 'abandon', 'abandoned', 'abandonedover', 'abandoning', 'abandonment']\n"
     ]
    }
   ],
   "source": [
    "# examine the first 50 tokens\n",
    "print(X_train_tokens[0:50])"
   ]
  },
  {
   "cell_type": "code",
   "execution_count": 22,
   "metadata": {},
   "outputs": [
    {
     "name": "stdout",
     "output_type": "stream",
     "text": [
      "['zombies', 'zombified', 'zonal', 'zondervan', 'zone', 'zonelike', 'zones', 'zoning', 'zoo', 'zook', 'zoologist', 'zoom', 'zoomed', 'zooming', 'zoomph', 'zooms', 'zora', 'zoroaster', 'zoroastrian', 'zouzou', 'zova', 'ztech', 'zucchini', 'zuccotti', 'zuck', 'zucker', 'zuckerberg', 'zuckerbergs', 'zuckerburg', 'zuckerburgs', 'zucman', 'zuesse', 'zulema', 'zulia', 'zulu', 'zulus', 'zuma', 'zuniga', 'zurich', 'zurichs', 'zurita', 'zuroff', 'zuylenwood', 'zvai', 'zvezda', 'zvulun', 'zwanzig', 'zweiter', 'zwick', 'zyuganov']\n"
     ]
    }
   ],
   "source": [
    "# examine the last 50 tokens\n",
    "print(X_train_tokens[-50:])"
   ]
  },
  {
   "cell_type": "code",
   "execution_count": 23,
   "metadata": {},
   "outputs": [
    {
     "data": {
      "text/plain": [
       "array([[ 3.,  1.,  1., ...,  1.,  0.,  2.],\n",
       "       [ 0.,  0.,  0., ...,  0.,  3.,  0.]])"
      ]
     },
     "execution_count": 23,
     "metadata": {},
     "output_type": "execute_result"
    }
   ],
   "source": [
    "# Naive Bayes counts the number of times each token appears in each class\n",
    "nb.feature_count_"
   ]
  },
  {
   "cell_type": "code",
   "execution_count": 24,
   "metadata": {},
   "outputs": [
    {
     "data": {
      "text/plain": [
       "(2, 65285)"
      ]
     },
     "execution_count": 24,
     "metadata": {},
     "output_type": "execute_result"
    }
   ],
   "source": [
    "# rows represent classes, columns represent tokens\n",
    "nb.feature_count_.shape"
   ]
  },
  {
   "cell_type": "code",
   "execution_count": 25,
   "metadata": {},
   "outputs": [
    {
     "data": {
      "text/plain": [
       "array([ 3.,  1.,  1., ...,  1.,  0.,  2.])"
      ]
     },
     "execution_count": 25,
     "metadata": {},
     "output_type": "execute_result"
    }
   ],
   "source": [
    "# number of times each token appears across all fake articles\n",
    "fake_token_count = nb.feature_count_[0, :]\n",
    "fake_token_count"
   ]
  },
  {
   "cell_type": "code",
   "execution_count": 26,
   "metadata": {},
   "outputs": [
    {
     "data": {
      "text/plain": [
       "array([ 0.,  0.,  0., ...,  0.,  3.,  0.])"
      ]
     },
     "execution_count": 26,
     "metadata": {},
     "output_type": "execute_result"
    }
   ],
   "source": [
    "# number of times each token appears across all real articles\n",
    "real_token_count = nb.feature_count_[1, :]\n",
    "real_token_count"
   ]
  },
  {
   "cell_type": "code",
   "execution_count": 27,
   "metadata": {
    "collapsed": true
   },
   "outputs": [],
   "source": [
    "# create a DataFrame of tokens with their separate real and fake counts\n",
    "tokens = pd.DataFrame({'token':X_train_tokens, 'real':real_token_count, 'fake':fake_token_count}).set_index('token')"
   ]
  },
  {
   "cell_type": "code",
   "execution_count": 28,
   "metadata": {},
   "outputs": [
    {
     "data": {
      "text/html": [
       "<div>\n",
       "<style>\n",
       "    .dataframe thead tr:only-child th {\n",
       "        text-align: right;\n",
       "    }\n",
       "\n",
       "    .dataframe thead th {\n",
       "        text-align: left;\n",
       "    }\n",
       "\n",
       "    .dataframe tbody tr th {\n",
       "        vertical-align: top;\n",
       "    }\n",
       "</style>\n",
       "<table border=\"1\" class=\"dataframe\">\n",
       "  <thead>\n",
       "    <tr style=\"text-align: right;\">\n",
       "      <th></th>\n",
       "      <th>real</th>\n",
       "    </tr>\n",
       "    <tr>\n",
       "      <th>token</th>\n",
       "      <th></th>\n",
       "    </tr>\n",
       "  </thead>\n",
       "  <tbody>\n",
       "    <tr>\n",
       "      <th>obama</th>\n",
       "      <td>3558.0</td>\n",
       "    </tr>\n",
       "    <tr>\n",
       "      <th>party</th>\n",
       "      <td>2756.0</td>\n",
       "    </tr>\n",
       "    <tr>\n",
       "      <th>house</th>\n",
       "      <td>2736.0</td>\n",
       "    </tr>\n",
       "    <tr>\n",
       "      <th>sanders</th>\n",
       "      <td>2648.0</td>\n",
       "    </tr>\n",
       "    <tr>\n",
       "      <th>percent</th>\n",
       "      <td>2611.0</td>\n",
       "    </tr>\n",
       "  </tbody>\n",
       "</table>\n",
       "</div>"
      ],
      "text/plain": [
       "           real\n",
       "token          \n",
       "obama    3558.0\n",
       "party    2756.0\n",
       "house    2736.0\n",
       "sanders  2648.0\n",
       "percent  2611.0"
      ]
     },
     "execution_count": 28,
     "metadata": {},
     "output_type": "execute_result"
    }
   ],
   "source": [
    "freq_real = tokens.sort_values(by='real', ascending = False)\n",
    "freq_real = freq_real.drop('fake',1)\n",
    "freq_real.head()"
   ]
  },
  {
   "cell_type": "code",
   "execution_count": 29,
   "metadata": {},
   "outputs": [
    {
     "data": {
      "text/html": [
       "<div>\n",
       "<style>\n",
       "    .dataframe thead tr:only-child th {\n",
       "        text-align: right;\n",
       "    }\n",
       "\n",
       "    .dataframe thead th {\n",
       "        text-align: left;\n",
       "    }\n",
       "\n",
       "    .dataframe tbody tr th {\n",
       "        vertical-align: top;\n",
       "    }\n",
       "</style>\n",
       "<table border=\"1\" class=\"dataframe\">\n",
       "  <thead>\n",
       "    <tr style=\"text-align: right;\">\n",
       "      <th></th>\n",
       "      <th>fake</th>\n",
       "    </tr>\n",
       "    <tr>\n",
       "      <th>token</th>\n",
       "      <th></th>\n",
       "    </tr>\n",
       "  </thead>\n",
       "  <tbody>\n",
       "    <tr>\n",
       "      <th>world</th>\n",
       "      <td>2234.0</td>\n",
       "    </tr>\n",
       "    <tr>\n",
       "      <th>government</th>\n",
       "      <td>1984.0</td>\n",
       "    </tr>\n",
       "    <tr>\n",
       "      <th>obama</th>\n",
       "      <td>1526.0</td>\n",
       "    </tr>\n",
       "    <tr>\n",
       "      <th>russia</th>\n",
       "      <td>1432.0</td>\n",
       "    </tr>\n",
       "    <tr>\n",
       "      <th>united</th>\n",
       "      <td>1353.0</td>\n",
       "    </tr>\n",
       "  </tbody>\n",
       "</table>\n",
       "</div>"
      ],
      "text/plain": [
       "              fake\n",
       "token             \n",
       "world       2234.0\n",
       "government  1984.0\n",
       "obama       1526.0\n",
       "russia      1432.0\n",
       "united      1353.0"
      ]
     },
     "execution_count": 29,
     "metadata": {},
     "output_type": "execute_result"
    }
   ],
   "source": [
    "freq_fake = tokens.sort_values(by='fake', ascending = False)\n",
    "freq_fake = freq_fake.drop('real',1)\n",
    "freq_fake = freq_fake.drop(freq_fake.index[[3]])\n",
    "freq_fake.head()\n",
    "\n"
   ]
  },
  {
   "cell_type": "code",
   "execution_count": 30,
   "metadata": {},
   "outputs": [
    {
     "data": {
      "text/plain": [
       "array(['FAKE'], \n",
       "      dtype='<U4')"
      ]
     },
     "execution_count": 30,
     "metadata": {},
     "output_type": "execute_result"
    }
   ],
   "source": [
    "new_text = pd.Series('during election time the world was expecting clinton party taking up the government but after the election results were out it is found that trump got the presidency and it is claimed that trump was aided by russian and media higher authorities to change the opinion of people')\n",
    "new_test_dtm = vect.transform(new_text)\n",
    "nb.predict(new_test_dtm)"
   ]
  },
  {
   "cell_type": "code",
   "execution_count": 31,
   "metadata": {},
   "outputs": [
    {
     "data": {
      "text/plain": [
       "array(['REAL'], \n",
       "      dtype='<U4')"
      ]
     },
     "execution_count": 31,
     "metadata": {},
     "output_type": "execute_result"
    }
   ],
   "source": [
    "new_data = pd.Series ('although obama has ruled very well and the party did pretty decent job in helping nation recover from economic crisis, the party campaign led by clinton was not that effective and the debate with sanders has shown the view of clintons thinking towards americas progress')\n",
    "new_data_dtm = vect.transform(new_data)\n",
    "nb.predict(new_data_dtm)"
   ]
  },
  {
   "cell_type": "code",
   "execution_count": 143,
   "metadata": {
    "collapsed": true
   },
   "outputs": [],
   "source": []
  },
  {
   "cell_type": "code",
   "execution_count": null,
   "metadata": {
    "collapsed": true
   },
   "outputs": [],
   "source": []
  },
  {
   "cell_type": "code",
   "execution_count": null,
   "metadata": {
    "collapsed": true
   },
   "outputs": [],
   "source": []
  },
  {
   "cell_type": "code",
   "execution_count": null,
   "metadata": {
    "collapsed": true
   },
   "outputs": [],
   "source": []
  },
  {
   "cell_type": "code",
   "execution_count": null,
   "metadata": {
    "collapsed": true
   },
   "outputs": [],
   "source": []
  },
  {
   "cell_type": "code",
   "execution_count": null,
   "metadata": {
    "collapsed": true
   },
   "outputs": [],
   "source": []
  },
  {
   "cell_type": "code",
   "execution_count": null,
   "metadata": {
    "collapsed": true
   },
   "outputs": [],
   "source": []
  },
  {
   "cell_type": "code",
   "execution_count": null,
   "metadata": {
    "collapsed": true
   },
   "outputs": [],
   "source": []
  },
  {
   "cell_type": "code",
   "execution_count": null,
   "metadata": {
    "collapsed": true
   },
   "outputs": [],
   "source": []
  },
  {
   "cell_type": "code",
   "execution_count": null,
   "metadata": {
    "collapsed": true
   },
   "outputs": [],
   "source": []
  },
  {
   "cell_type": "code",
   "execution_count": null,
   "metadata": {
    "collapsed": true
   },
   "outputs": [],
   "source": []
  },
  {
   "cell_type": "code",
   "execution_count": null,
   "metadata": {
    "collapsed": true
   },
   "outputs": [],
   "source": []
  },
  {
   "cell_type": "code",
   "execution_count": null,
   "metadata": {
    "collapsed": true
   },
   "outputs": [],
   "source": []
  },
  {
   "cell_type": "code",
   "execution_count": null,
   "metadata": {
    "collapsed": true
   },
   "outputs": [],
   "source": []
  },
  {
   "cell_type": "code",
   "execution_count": 58,
   "metadata": {},
   "outputs": [
    {
     "data": {
      "text/plain": [
       "array([ 2347.,  2404.])"
      ]
     },
     "execution_count": 58,
     "metadata": {},
     "output_type": "execute_result"
    }
   ],
   "source": [
    "# Naive Bayes counts the number of observations in each class\n",
    "nb.class_count_"
   ]
  },
  {
   "cell_type": "code",
   "execution_count": 246,
   "metadata": {
    "scrolled": true
   },
   "outputs": [
    {
     "data": {
      "text/html": [
       "<div>\n",
       "<table border=\"1\" class=\"dataframe\">\n",
       "  <thead>\n",
       "    <tr style=\"text-align: right;\">\n",
       "      <th></th>\n",
       "      <th>fake</th>\n",
       "      <th>real</th>\n",
       "    </tr>\n",
       "    <tr>\n",
       "      <th>token</th>\n",
       "      <th></th>\n",
       "      <th></th>\n",
       "    </tr>\n",
       "  </thead>\n",
       "  <tbody>\n",
       "    <tr>\n",
       "      <th>impose</th>\n",
       "      <td>2.588659</td>\n",
       "      <td>4.569690</td>\n",
       "    </tr>\n",
       "    <tr>\n",
       "      <th>cheburashka</th>\n",
       "      <td>1.042429</td>\n",
       "      <td>1.000000</td>\n",
       "    </tr>\n",
       "    <tr>\n",
       "      <th>boardroom</th>\n",
       "      <td>1.057848</td>\n",
       "      <td>1.192386</td>\n",
       "    </tr>\n",
       "    <tr>\n",
       "      <th>groundfree</th>\n",
       "      <td>1.000000</td>\n",
       "      <td>1.050867</td>\n",
       "    </tr>\n",
       "    <tr>\n",
       "      <th>buti</th>\n",
       "      <td>1.000000</td>\n",
       "      <td>1.088252</td>\n",
       "    </tr>\n",
       "  </tbody>\n",
       "</table>\n",
       "</div>"
      ],
      "text/plain": [
       "                 fake      real\n",
       "token                          \n",
       "impose       2.588659  4.569690\n",
       "cheburashka  1.042429  1.000000\n",
       "boardroom    1.057848  1.192386\n",
       "groundfree   1.000000  1.050867\n",
       "buti         1.000000  1.088252"
      ]
     },
     "execution_count": 246,
     "metadata": {},
     "output_type": "execute_result"
    }
   ],
   "source": [
    "#Before we can calculate the \"spamminess\" of each token, we need to avoid dividing by zero and account for the class imbalance\n",
    "# add 1 to real and fake counts to avoid dividing by 0\n",
    "tokens['real'] = tokens.real + 1\n",
    "tokens['fake'] = tokens.fake + 1\n",
    "tokens.sample(5, random_state=6)"
   ]
  },
  {
   "cell_type": "code",
   "execution_count": 247,
   "metadata": {},
   "outputs": [
    {
     "data": {
      "text/html": [
       "<div>\n",
       "<table border=\"1\" class=\"dataframe\">\n",
       "  <thead>\n",
       "    <tr style=\"text-align: right;\">\n",
       "      <th></th>\n",
       "      <th>fake</th>\n",
       "      <th>real</th>\n",
       "    </tr>\n",
       "    <tr>\n",
       "      <th>token</th>\n",
       "      <th></th>\n",
       "      <th></th>\n",
       "    </tr>\n",
       "  </thead>\n",
       "  <tbody>\n",
       "    <tr>\n",
       "      <th>impose</th>\n",
       "      <td>0.001077</td>\n",
       "      <td>0.001947</td>\n",
       "    </tr>\n",
       "    <tr>\n",
       "      <th>cheburashka</th>\n",
       "      <td>0.000434</td>\n",
       "      <td>0.000426</td>\n",
       "    </tr>\n",
       "    <tr>\n",
       "      <th>boardroom</th>\n",
       "      <td>0.000440</td>\n",
       "      <td>0.000508</td>\n",
       "    </tr>\n",
       "    <tr>\n",
       "      <th>groundfree</th>\n",
       "      <td>0.000416</td>\n",
       "      <td>0.000448</td>\n",
       "    </tr>\n",
       "    <tr>\n",
       "      <th>buti</th>\n",
       "      <td>0.000416</td>\n",
       "      <td>0.000464</td>\n",
       "    </tr>\n",
       "  </tbody>\n",
       "</table>\n",
       "</div>"
      ],
      "text/plain": [
       "                 fake      real\n",
       "token                          \n",
       "impose       0.001077  0.001947\n",
       "cheburashka  0.000434  0.000426\n",
       "boardroom    0.000440  0.000508\n",
       "groundfree   0.000416  0.000448\n",
       "buti         0.000416  0.000464"
      ]
     },
     "execution_count": 247,
     "metadata": {},
     "output_type": "execute_result"
    }
   ],
   "source": [
    "# convert the real  and fake counts into frequencies\n",
    "tokens['real'] = tokens.real / nb.class_count_[0]\n",
    "tokens['fake'] = tokens.fake / nb.class_count_[1]\n",
    "tokens.sample(5, random_state=6)"
   ]
  },
  {
   "cell_type": "code",
   "execution_count": 72,
   "metadata": {},
   "outputs": [
    {
     "data": {
      "text/html": [
       "<div>\n",
       "<table border=\"1\" class=\"dataframe\">\n",
       "  <thead>\n",
       "    <tr style=\"text-align: right;\">\n",
       "      <th></th>\n",
       "      <th>fake</th>\n",
       "      <th>real</th>\n",
       "      <th>fake_ratio</th>\n",
       "    </tr>\n",
       "    <tr>\n",
       "      <th>token</th>\n",
       "      <th></th>\n",
       "      <th></th>\n",
       "      <th></th>\n",
       "    </tr>\n",
       "  </thead>\n",
       "  <tbody>\n",
       "    <tr>\n",
       "      <th>humiliating</th>\n",
       "      <td>0.000832</td>\n",
       "      <td>0.001704</td>\n",
       "      <td>0.488145</td>\n",
       "    </tr>\n",
       "    <tr>\n",
       "      <th>sweep</th>\n",
       "      <td>0.000832</td>\n",
       "      <td>0.001704</td>\n",
       "      <td>0.488145</td>\n",
       "    </tr>\n",
       "    <tr>\n",
       "      <th>projects</th>\n",
       "      <td>0.001664</td>\n",
       "      <td>0.000852</td>\n",
       "      <td>1.952579</td>\n",
       "    </tr>\n",
       "    <tr>\n",
       "      <th>raid</th>\n",
       "      <td>0.001248</td>\n",
       "      <td>0.002130</td>\n",
       "      <td>0.585774</td>\n",
       "    </tr>\n",
       "    <tr>\n",
       "      <th>executioner</th>\n",
       "      <td>0.000832</td>\n",
       "      <td>0.001278</td>\n",
       "      <td>0.650860</td>\n",
       "    </tr>\n",
       "  </tbody>\n",
       "</table>\n",
       "</div>"
      ],
      "text/plain": [
       "                 fake      real  fake_ratio\n",
       "token                                      \n",
       "humiliating  0.000832  0.001704    0.488145\n",
       "sweep        0.000832  0.001704    0.488145\n",
       "projects     0.001664  0.000852    1.952579\n",
       "raid         0.001248  0.002130    0.585774\n",
       "executioner  0.000832  0.001278    0.650860"
      ]
     },
     "execution_count": 72,
     "metadata": {},
     "output_type": "execute_result"
    }
   ],
   "source": [
    "# calculate the ratio of fake to real for each token\n",
    "tokens['fake_ratio'] = tokens.fake / tokens.real\n",
    "tokens.sample(5, random_state=6)"
   ]
  },
  {
   "cell_type": "code",
   "execution_count": 75,
   "metadata": {},
   "outputs": [
    {
     "data": {
      "text/html": [
       "<div>\n",
       "<table border=\"1\" class=\"dataframe\">\n",
       "  <thead>\n",
       "    <tr style=\"text-align: right;\">\n",
       "      <th></th>\n",
       "      <th>fake</th>\n",
       "      <th>real</th>\n",
       "      <th>fake_ratio</th>\n",
       "      <th>real_ratio</th>\n",
       "    </tr>\n",
       "    <tr>\n",
       "      <th>token</th>\n",
       "      <th></th>\n",
       "      <th></th>\n",
       "      <th></th>\n",
       "      <th></th>\n",
       "    </tr>\n",
       "  </thead>\n",
       "  <tbody>\n",
       "    <tr>\n",
       "      <th>humiliating</th>\n",
       "      <td>0.000832</td>\n",
       "      <td>0.001704</td>\n",
       "      <td>0.488145</td>\n",
       "      <td>2.048573</td>\n",
       "    </tr>\n",
       "    <tr>\n",
       "      <th>sweep</th>\n",
       "      <td>0.000832</td>\n",
       "      <td>0.001704</td>\n",
       "      <td>0.488145</td>\n",
       "      <td>2.048573</td>\n",
       "    </tr>\n",
       "    <tr>\n",
       "      <th>projects</th>\n",
       "      <td>0.001664</td>\n",
       "      <td>0.000852</td>\n",
       "      <td>1.952579</td>\n",
       "      <td>0.512143</td>\n",
       "    </tr>\n",
       "    <tr>\n",
       "      <th>raid</th>\n",
       "      <td>0.001248</td>\n",
       "      <td>0.002130</td>\n",
       "      <td>0.585774</td>\n",
       "      <td>1.707144</td>\n",
       "    </tr>\n",
       "    <tr>\n",
       "      <th>executioner</th>\n",
       "      <td>0.000832</td>\n",
       "      <td>0.001278</td>\n",
       "      <td>0.650860</td>\n",
       "      <td>1.536429</td>\n",
       "    </tr>\n",
       "  </tbody>\n",
       "</table>\n",
       "</div>"
      ],
      "text/plain": [
       "                 fake      real  fake_ratio  real_ratio\n",
       "token                                                  \n",
       "humiliating  0.000832  0.001704    0.488145    2.048573\n",
       "sweep        0.000832  0.001704    0.488145    2.048573\n",
       "projects     0.001664  0.000852    1.952579    0.512143\n",
       "raid         0.001248  0.002130    0.585774    1.707144\n",
       "executioner  0.000832  0.001278    0.650860    1.536429"
      ]
     },
     "execution_count": 75,
     "metadata": {},
     "output_type": "execute_result"
    }
   ],
   "source": [
    "# calculate the ratio of fake to real for each token\n",
    "tokens['real_ratio'] = tokens.real / tokens.fake\n",
    "tokens.sample(5, random_state=6)"
   ]
  },
  {
   "cell_type": "code",
   "execution_count": 118,
   "metadata": {
    "collapsed": true,
    "scrolled": true
   },
   "outputs": [],
   "source": [
    "# examine the DataFrame sorted by fake_ratio\n",
    "tokens_real = tokens.sort_values('real_ratio', ascending=False).head(5)"
   ]
  },
  {
   "cell_type": "code",
   "execution_count": 119,
   "metadata": {},
   "outputs": [
    {
     "data": {
      "text/html": [
       "<div>\n",
       "<table border=\"1\" class=\"dataframe\">\n",
       "  <thead>\n",
       "    <tr style=\"text-align: right;\">\n",
       "      <th></th>\n",
       "      <th>fake</th>\n",
       "      <th>real</th>\n",
       "      <th>fake_ratio</th>\n",
       "      <th>real_ratio</th>\n",
       "    </tr>\n",
       "    <tr>\n",
       "      <th>token</th>\n",
       "      <th></th>\n",
       "      <th></th>\n",
       "      <th></th>\n",
       "      <th></th>\n",
       "    </tr>\n",
       "  </thead>\n",
       "  <tbody>\n",
       "    <tr>\n",
       "      <th>cruz</th>\n",
       "      <td>0.001248</td>\n",
       "      <td>0.033660</td>\n",
       "      <td>0.037074</td>\n",
       "      <td>26.972873</td>\n",
       "    </tr>\n",
       "    <tr>\n",
       "      <th>immigration</th>\n",
       "      <td>0.000832</td>\n",
       "      <td>0.013634</td>\n",
       "      <td>0.061018</td>\n",
       "      <td>16.388581</td>\n",
       "    </tr>\n",
       "    <tr>\n",
       "      <th>rubio</th>\n",
       "      <td>0.001248</td>\n",
       "      <td>0.019173</td>\n",
       "      <td>0.065086</td>\n",
       "      <td>15.364295</td>\n",
       "    </tr>\n",
       "    <tr>\n",
       "      <th>iowa</th>\n",
       "      <td>0.001248</td>\n",
       "      <td>0.016191</td>\n",
       "      <td>0.077075</td>\n",
       "      <td>12.974293</td>\n",
       "    </tr>\n",
       "    <tr>\n",
       "      <th>marriage</th>\n",
       "      <td>0.000832</td>\n",
       "      <td>0.010652</td>\n",
       "      <td>0.078103</td>\n",
       "      <td>12.803579</td>\n",
       "    </tr>\n",
       "  </tbody>\n",
       "</table>\n",
       "</div>"
      ],
      "text/plain": [
       "                 fake      real  fake_ratio  real_ratio\n",
       "token                                                  \n",
       "cruz         0.001248  0.033660    0.037074   26.972873\n",
       "immigration  0.000832  0.013634    0.061018   16.388581\n",
       "rubio        0.001248  0.019173    0.065086   15.364295\n",
       "iowa         0.001248  0.016191    0.077075   12.974293\n",
       "marriage     0.000832  0.010652    0.078103   12.803579"
      ]
     },
     "execution_count": 119,
     "metadata": {},
     "output_type": "execute_result"
    }
   ],
   "source": [
    "tokens_real"
   ]
  },
  {
   "cell_type": "code",
   "execution_count": null,
   "metadata": {
    "collapsed": true
   },
   "outputs": [],
   "source": []
  },
  {
   "cell_type": "markdown",
   "metadata": {},
   "source": [
    "## Logistic Regression"
   ]
  },
  {
   "cell_type": "code",
   "execution_count": 269,
   "metadata": {
    "collapsed": true
   },
   "outputs": [],
   "source": [
    "# import and instantiate a logistic regression model\n",
    "from sklearn.linear_model import LogisticRegression\n",
    "seed=12\n",
    "logreg = LogisticRegression(C=2, random_state=12, class_weight='balanced')"
   ]
  },
  {
   "cell_type": "code",
   "execution_count": 270,
   "metadata": {},
   "outputs": [
    {
     "data": {
      "text/plain": [
       "LogisticRegression(C=2, class_weight='balanced', dual=False,\n",
       "          fit_intercept=True, intercept_scaling=1, max_iter=100,\n",
       "          multi_class='ovr', n_jobs=1, penalty='l2', random_state=12,\n",
       "          solver='liblinear', tol=0.0001, verbose=0, warm_start=False)"
      ]
     },
     "execution_count": 270,
     "metadata": {},
     "output_type": "execute_result"
    }
   ],
   "source": [
    "logreg.fit(X_train_dtm, y_train)"
   ]
  },
  {
   "cell_type": "code",
   "execution_count": 271,
   "metadata": {
    "collapsed": true
   },
   "outputs": [],
   "source": [
    "y_log_pred_test = logreg.predict(X_test_dtm)\n",
    "y_log_pred_train = logreg.predict(X_train_dtm)"
   ]
  },
  {
   "cell_type": "code",
   "execution_count": 272,
   "metadata": {},
   "outputs": [
    {
     "data": {
      "text/plain": [
       "0.92803030303030298"
      ]
     },
     "execution_count": 272,
     "metadata": {},
     "output_type": "execute_result"
    }
   ],
   "source": [
    "metrics.accuracy_score(y_test, y_log_pred_test)\n"
   ]
  },
  {
   "cell_type": "code",
   "execution_count": 273,
   "metadata": {},
   "outputs": [
    {
     "data": {
      "text/plain": [
       "0.97895179962113243"
      ]
     },
     "execution_count": 273,
     "metadata": {},
     "output_type": "execute_result"
    }
   ],
   "source": [
    "metrics.accuracy_score(y_train, y_log_pred_train)"
   ]
  },
  {
   "cell_type": "code",
   "execution_count": 274,
   "metadata": {},
   "outputs": [
    {
     "data": {
      "text/plain": [
       "array([[769,  48],\n",
       "       [ 66, 701]])"
      ]
     },
     "execution_count": 274,
     "metadata": {},
     "output_type": "execute_result"
    }
   ],
   "source": [
    "# print the confusion matrix\n",
    "metrics.confusion_matrix(y_test, y_log_pred_test)"
   ]
  },
  {
   "cell_type": "code",
   "execution_count": null,
   "metadata": {
    "collapsed": true
   },
   "outputs": [],
   "source": []
  },
  {
   "cell_type": "markdown",
   "metadata": {},
   "source": [
    "## Random Forest"
   ]
  },
  {
   "cell_type": "code",
   "execution_count": 87,
   "metadata": {},
   "outputs": [
    {
     "data": {
      "text/plain": [
       "RandomForestClassifier(bootstrap=True, class_weight=None, criterion='gini',\n",
       "            max_depth=None, max_features='auto', max_leaf_nodes=None,\n",
       "            min_impurity_split=1e-07, min_samples_leaf=1,\n",
       "            min_samples_split=2, min_weight_fraction_leaf=0.0,\n",
       "            n_estimators=25, n_jobs=1, oob_score=False, random_state=None,\n",
       "            verbose=0, warm_start=False)"
      ]
     },
     "execution_count": 87,
     "metadata": {},
     "output_type": "execute_result"
    }
   ],
   "source": [
    "#initializing reandom forest\n",
    "from sklearn.ensemble import RandomForestClassifier\n",
    "RF_clf = RandomForestClassifier(n_estimators=25)\n",
    "RF_clf.fit(X_train_dtm, y_train)"
   ]
  },
  {
   "cell_type": "code",
   "execution_count": 88,
   "metadata": {},
   "outputs": [],
   "source": [
    "probs_rf = []\n",
    "\n",
    "#predicting on train and test data\n",
    "y_rf_pred_test = RF_clf.predict(X_test_dtm)\n",
    "y_rf_pred_train = RF_clf.predict(X_train_dtm)\n",
    "probs_rf = RF_clf.predict_proba(X_test_dtm)"
   ]
  },
  {
   "cell_type": "code",
   "execution_count": 212,
   "metadata": {},
   "outputs": [
    {
     "data": {
      "text/plain": [
       "array([[ 0.24,  0.76],\n",
       "       [ 0.52,  0.48],\n",
       "       [ 0.8 ,  0.2 ],\n",
       "       ..., \n",
       "       [ 0.28,  0.72],\n",
       "       [ 0.36,  0.64],\n",
       "       [ 0.16,  0.84]])"
      ]
     },
     "execution_count": 212,
     "metadata": {},
     "output_type": "execute_result"
    }
   ],
   "source": [
    "probs_rf = RF_clf.predict_proba(X_test_dtm) #predict probabilities\n",
    "probs_rf"
   ]
  },
  {
   "cell_type": "code",
   "execution_count": 204,
   "metadata": {
    "collapsed": true
   },
   "outputs": [],
   "source": [
    "probs = probs_rf[:,1]  #taking a column"
   ]
  },
  {
   "cell_type": "code",
   "execution_count": 213,
   "metadata": {
    "scrolled": true
   },
   "outputs": [
    {
     "data": {
      "text/plain": [
       "array([ 1.,  0.,  0., ...,  1.,  1.,  1.])"
      ]
     },
     "execution_count": 213,
     "metadata": {},
     "output_type": "execute_result"
    }
   ],
   "source": [
    "probs[probs > 0.5] =1  #setting thresholds\n",
    "probs[probs <= 0.5] = 0\n",
    "probs"
   ]
  },
  {
   "cell_type": "code",
   "execution_count": 210,
   "metadata": {},
   "outputs": [
    {
     "data": {
      "text/plain": [
       "0.87563131313131315"
      ]
     },
     "execution_count": 210,
     "metadata": {},
     "output_type": "execute_result"
    }
   ],
   "source": [
    "metrics.accuracy_score(y_test, probs)  "
   ]
  },
  {
   "cell_type": "code",
   "execution_count": 211,
   "metadata": {},
   "outputs": [
    {
     "data": {
      "text/plain": [
       "0.87563131313131315"
      ]
     },
     "execution_count": 211,
     "metadata": {},
     "output_type": "execute_result"
    }
   ],
   "source": [
    "#good accuracy on test data\n",
    "metrics.accuracy_score(y_test, y_rf_pred_test)"
   ]
  },
  {
   "cell_type": "code",
   "execution_count": null,
   "metadata": {
    "collapsed": true
   },
   "outputs": [],
   "source": []
  },
  {
   "cell_type": "code",
   "execution_count": null,
   "metadata": {
    "collapsed": true
   },
   "outputs": [],
   "source": []
  },
  {
   "cell_type": "code",
   "execution_count": null,
   "metadata": {
    "collapsed": true
   },
   "outputs": [],
   "source": []
  },
  {
   "cell_type": "code",
   "execution_count": 43,
   "metadata": {},
   "outputs": [
    {
     "data": {
      "text/plain": [
       "(1584, 65285)"
      ]
     },
     "execution_count": 43,
     "metadata": {},
     "output_type": "execute_result"
    }
   ],
   "source": [
    "X_test_dtm.shape"
   ]
  },
  {
   "cell_type": "code",
   "execution_count": 100,
   "metadata": {},
   "outputs": [
    {
     "data": {
      "text/plain": [
       "0.87563131313131315"
      ]
     },
     "execution_count": 100,
     "metadata": {},
     "output_type": "execute_result"
    }
   ],
   "source": [
    "#good accuracy on test data\n",
    "metrics.accuracy_score(y_test, y_rf_pred_test)\n"
   ]
  },
  {
   "cell_type": "code",
   "execution_count": 35,
   "metadata": {},
   "outputs": [
    {
     "data": {
      "text/plain": [
       "0.99410650389391708"
      ]
     },
     "execution_count": 35,
     "metadata": {},
     "output_type": "execute_result"
    }
   ],
   "source": [
    "#overfitting on train dataa\n",
    "metrics.accuracy_score(y_train, y_rf_pred_train)\n"
   ]
  },
  {
   "cell_type": "code",
   "execution_count": 258,
   "metadata": {
    "scrolled": true
   },
   "outputs": [
    {
     "data": {
      "text/html": [
       "<div>\n",
       "<table border=\"1\" class=\"dataframe\">\n",
       "  <thead>\n",
       "    <tr style=\"text-align: right;\">\n",
       "      <th></th>\n",
       "      <th>text</th>\n",
       "      <th>label</th>\n",
       "    </tr>\n",
       "  </thead>\n",
       "  <tbody>\n",
       "    <tr>\n",
       "      <th>0</th>\n",
       "      <td>smell hillarys fear daniel greenfield shillman...</td>\n",
       "      <td>FAKE</td>\n",
       "    </tr>\n",
       "    <tr>\n",
       "      <th>1</th>\n",
       "      <td>watch exact moment paul ryan committed politic...</td>\n",
       "      <td>FAKE</td>\n",
       "    </tr>\n",
       "    <tr>\n",
       "      <th>2</th>\n",
       "      <td>kerry paris gesture sympathy us secretary stat...</td>\n",
       "      <td>REAL</td>\n",
       "    </tr>\n",
       "    <tr>\n",
       "      <th>3</th>\n",
       "      <td>bernie supporters twitter erupt anger dnc trie...</td>\n",
       "      <td>FAKE</td>\n",
       "    </tr>\n",
       "    <tr>\n",
       "      <th>4</th>\n",
       "      <td>battle york primary matters its primary york f...</td>\n",
       "      <td>REAL</td>\n",
       "    </tr>\n",
       "    <tr>\n",
       "      <th>5</th>\n",
       "      <td>tehran im immigrant grandparents are years ago...</td>\n",
       "      <td>FAKE</td>\n",
       "    </tr>\n",
       "    <tr>\n",
       "      <th>6</th>\n",
       "      <td>girl horrified watches boyfriend left facetime...</td>\n",
       "      <td>FAKE</td>\n",
       "    </tr>\n",
       "    <tr>\n",
       "      <th>7</th>\n",
       "      <td>britains schindler dies czech stockbroker save...</td>\n",
       "      <td>REAL</td>\n",
       "    </tr>\n",
       "    <tr>\n",
       "      <th>8</th>\n",
       "      <td>fact check trump clinton forum hillary clinton...</td>\n",
       "      <td>REAL</td>\n",
       "    </tr>\n",
       "    <tr>\n",
       "      <th>9</th>\n",
       "      <td>iran reportedly makes push uranium concessions...</td>\n",
       "      <td>REAL</td>\n",
       "    </tr>\n",
       "    <tr>\n",
       "      <th>10</th>\n",
       "      <td>three clintons iowa glimpse fire eluded hillar...</td>\n",
       "      <td>REAL</td>\n",
       "    </tr>\n",
       "    <tr>\n",
       "      <th>11</th>\n",
       "      <td>donald trumps shockingly weak delegate game so...</td>\n",
       "      <td>REAL</td>\n",
       "    </tr>\n",
       "    <tr>\n",
       "      <th>12</th>\n",
       "      <td>strong solar storm tech risks today news oct v...</td>\n",
       "      <td>FAKE</td>\n",
       "    </tr>\n",
       "    <tr>\n",
       "      <th>13</th>\n",
       "      <td>ways america preparing world october   pretty ...</td>\n",
       "      <td>FAKE</td>\n",
       "    </tr>\n",
       "    <tr>\n",
       "      <th>14</th>\n",
       "      <td>trump takes cruz lightly killing obama adminis...</td>\n",
       "      <td>REAL</td>\n",
       "    </tr>\n",
       "    <tr>\n",
       "      <th>15</th>\n",
       "      <td>women lead differently women move high offices...</td>\n",
       "      <td>REAL</td>\n",
       "    </tr>\n",
       "    <tr>\n",
       "      <th>16</th>\n",
       "      <td>shocking michele obama hillary caught glamoriz...</td>\n",
       "      <td>FAKE</td>\n",
       "    </tr>\n",
       "    <tr>\n",
       "      <th>17</th>\n",
       "      <td>hillary clinton huge trouble america noticed s...</td>\n",
       "      <td>FAKE</td>\n",
       "    </tr>\n",
       "    <tr>\n",
       "      <th>18</th>\n",
       "      <td>whats iran bill obama doesnt like washington c...</td>\n",
       "      <td>REAL</td>\n",
       "    </tr>\n",
       "    <tr>\n",
       "      <th>19</th>\n",
       "      <td>chart explains everything need know partisansh...</td>\n",
       "      <td>REAL</td>\n",
       "    </tr>\n",
       "    <tr>\n",
       "      <th>20</th>\n",
       "      <td>slippery slope trumps proposed muslims little ...</td>\n",
       "      <td>REAL</td>\n",
       "    </tr>\n",
       "    <tr>\n",
       "      <th>21</th>\n",
       "      <td>episode  sunday wire hail deplorables special ...</td>\n",
       "      <td>FAKE</td>\n",
       "    </tr>\n",
       "    <tr>\n",
       "      <th>22</th>\n",
       "      <td>hillary clinton makes bipartisan appeal staten...</td>\n",
       "      <td>REAL</td>\n",
       "    </tr>\n",
       "    <tr>\n",
       "      <th>23</th>\n",
       "      <td>senate majority leaders main goal gop dont sca...</td>\n",
       "      <td>REAL</td>\n",
       "    </tr>\n",
       "    <tr>\n",
       "      <th>24</th>\n",
       "      <td>inferno overpopulation myth misesorg november ...</td>\n",
       "      <td>FAKE</td>\n",
       "    </tr>\n",
       "    <tr>\n",
       "      <th>25</th>\n",
       "      <td>antitrump forces seek lastditch delegate revol...</td>\n",
       "      <td>REAL</td>\n",
       "    </tr>\n",
       "    <tr>\n",
       "      <th>26</th>\n",
       "      <td>sanders trounces clinton make difference meanw...</td>\n",
       "      <td>REAL</td>\n",
       "    </tr>\n",
       "    <tr>\n",
       "      <th>27</th>\n",
       "      <td>donald trump changing campaign slogan prove he...</td>\n",
       "      <td>REAL</td>\n",
       "    </tr>\n",
       "    <tr>\n",
       "      <th>28</th>\n",
       "      <td>pure chaos donald trumps campaign management o...</td>\n",
       "      <td>REAL</td>\n",
       "    </tr>\n",
       "    <tr>\n",
       "      <th>29</th>\n",
       "      <td>syrian report november  syrian military deploy...</td>\n",
       "      <td>FAKE</td>\n",
       "    </tr>\n",
       "    <tr>\n",
       "      <th>...</th>\n",
       "      <td>...</td>\n",
       "      <td>...</td>\n",
       "    </tr>\n",
       "    <tr>\n",
       "      <th>6305</th>\n",
       "      <td>colin kaepernick hosts know rights camp oaklan...</td>\n",
       "      <td>FAKE</td>\n",
       "    </tr>\n",
       "    <tr>\n",
       "      <th>6306</th>\n",
       "      <td>wikileaks emails disclose aliens linked vatica...</td>\n",
       "      <td>FAKE</td>\n",
       "    </tr>\n",
       "    <tr>\n",
       "      <th>6307</th>\n",
       "      <td>abstains vote calling cuban embargo abstains v...</td>\n",
       "      <td>FAKE</td>\n",
       "    </tr>\n",
       "    <tr>\n",
       "      <th>6308</th>\n",
       "      <td>west fans laud aerodynamic properties pound co...</td>\n",
       "      <td>FAKE</td>\n",
       "    </tr>\n",
       "    <tr>\n",
       "      <th>6309</th>\n",
       "      <td>obama white house runs foreign policy susan ri...</td>\n",
       "      <td>REAL</td>\n",
       "    </tr>\n",
       "    <tr>\n",
       "      <th>6310</th>\n",
       "      <td>isis claims responsibility garland texas shoot...</td>\n",
       "      <td>REAL</td>\n",
       "    </tr>\n",
       "    <tr>\n",
       "      <th>6311</th>\n",
       "      <td>blame left crew rights hebdo attack ly inevita...</td>\n",
       "      <td>REAL</td>\n",
       "    </tr>\n",
       "    <tr>\n",
       "      <th>6312</th>\n",
       "      <td>adhd nation pharma created adhd epidemic kalee...</td>\n",
       "      <td>FAKE</td>\n",
       "    </tr>\n",
       "    <tr>\n",
       "      <th>6313</th>\n",
       "      <td>donald trump claims election rigged critics ca...</td>\n",
       "      <td>FAKE</td>\n",
       "    </tr>\n",
       "    <tr>\n",
       "      <th>6314</th>\n",
       "      <td>report dirty reporter blackmails montel help t...</td>\n",
       "      <td>FAKE</td>\n",
       "    </tr>\n",
       "    <tr>\n",
       "      <th>6315</th>\n",
       "      <td>police arrest suspect charleston church shooti...</td>\n",
       "      <td>REAL</td>\n",
       "    </tr>\n",
       "    <tr>\n",
       "      <th>6316</th>\n",
       "      <td>donald trumps collapse caused factor hillary c...</td>\n",
       "      <td>REAL</td>\n",
       "    </tr>\n",
       "    <tr>\n",
       "      <th>6317</th>\n",
       "      <td>fina suspends russian swimmer years doping por...</td>\n",
       "      <td>FAKE</td>\n",
       "    </tr>\n",
       "    <tr>\n",
       "      <th>6318</th>\n",
       "      <td>breaking hillary campaign manager deletes enti...</td>\n",
       "      <td>FAKE</td>\n",
       "    </tr>\n",
       "    <tr>\n",
       "      <th>6319</th>\n",
       "      <td>cruz lose hampshire cruz took first prize iowa...</td>\n",
       "      <td>REAL</td>\n",
       "    </tr>\n",
       "    <tr>\n",
       "      <th>6320</th>\n",
       "      <td>nothing good come thats good posted november  ...</td>\n",
       "      <td>FAKE</td>\n",
       "    </tr>\n",
       "    <tr>\n",
       "      <th>6321</th>\n",
       "      <td>list republicans opposing trump offguardian ch...</td>\n",
       "      <td>FAKE</td>\n",
       "    </tr>\n",
       "    <tr>\n",
       "      <th>6322</th>\n",
       "      <td>putin mythical russian military threat profita...</td>\n",
       "      <td>FAKE</td>\n",
       "    </tr>\n",
       "    <tr>\n",
       "      <th>6323</th>\n",
       "      <td>bernie sanders says private meeting pope franc...</td>\n",
       "      <td>REAL</td>\n",
       "    </tr>\n",
       "    <tr>\n",
       "      <th>6324</th>\n",
       "      <td>alabama lawmaker samesex couples dont deserve ...</td>\n",
       "      <td>REAL</td>\n",
       "    </tr>\n",
       "    <tr>\n",
       "      <th>6325</th>\n",
       "      <td>media reset election stuck tabloid stuff writt...</td>\n",
       "      <td>FAKE</td>\n",
       "    </tr>\n",
       "    <tr>\n",
       "      <th>6326</th>\n",
       "      <td>complaint comey fire partisan witch hunt hilla...</td>\n",
       "      <td>FAKE</td>\n",
       "    </tr>\n",
       "    <tr>\n",
       "      <th>6327</th>\n",
       "      <td>senator david perdue jokes praying obamas deat...</td>\n",
       "      <td>REAL</td>\n",
       "    </tr>\n",
       "    <tr>\n",
       "      <th>6328</th>\n",
       "      <td>radio derb airleonardo brazils miss pageant etc</td>\n",
       "      <td>FAKE</td>\n",
       "    </tr>\n",
       "    <tr>\n",
       "      <th>6329</th>\n",
       "      <td>assange claims crazed clinton campaign tried h...</td>\n",
       "      <td>FAKE</td>\n",
       "    </tr>\n",
       "    <tr>\n",
       "      <th>6330</th>\n",
       "      <td>state department says cant find emails clinton...</td>\n",
       "      <td>REAL</td>\n",
       "    </tr>\n",
       "    <tr>\n",
       "      <th>6331</th>\n",
       "      <td>p stand pentagon p stand pentagon posted  wiki...</td>\n",
       "      <td>FAKE</td>\n",
       "    </tr>\n",
       "    <tr>\n",
       "      <th>6332</th>\n",
       "      <td>antitrump protesters tools oligarchy informati...</td>\n",
       "      <td>FAKE</td>\n",
       "    </tr>\n",
       "    <tr>\n",
       "      <th>6333</th>\n",
       "      <td>ethiopia obama seeks progress peace security e...</td>\n",
       "      <td>REAL</td>\n",
       "    </tr>\n",
       "    <tr>\n",
       "      <th>6334</th>\n",
       "      <td>bush suddenly attacking trump heres matters bu...</td>\n",
       "      <td>REAL</td>\n",
       "    </tr>\n",
       "  </tbody>\n",
       "</table>\n",
       "<p>6335 rows × 2 columns</p>\n",
       "</div>"
      ],
      "text/plain": [
       "                                                   text label\n",
       "0     smell hillarys fear daniel greenfield shillman...  FAKE\n",
       "1     watch exact moment paul ryan committed politic...  FAKE\n",
       "2     kerry paris gesture sympathy us secretary stat...  REAL\n",
       "3     bernie supporters twitter erupt anger dnc trie...  FAKE\n",
       "4     battle york primary matters its primary york f...  REAL\n",
       "5     tehran im immigrant grandparents are years ago...  FAKE\n",
       "6     girl horrified watches boyfriend left facetime...  FAKE\n",
       "7     britains schindler dies czech stockbroker save...  REAL\n",
       "8     fact check trump clinton forum hillary clinton...  REAL\n",
       "9     iran reportedly makes push uranium concessions...  REAL\n",
       "10    three clintons iowa glimpse fire eluded hillar...  REAL\n",
       "11    donald trumps shockingly weak delegate game so...  REAL\n",
       "12    strong solar storm tech risks today news oct v...  FAKE\n",
       "13    ways america preparing world october   pretty ...  FAKE\n",
       "14    trump takes cruz lightly killing obama adminis...  REAL\n",
       "15    women lead differently women move high offices...  REAL\n",
       "16    shocking michele obama hillary caught glamoriz...  FAKE\n",
       "17    hillary clinton huge trouble america noticed s...  FAKE\n",
       "18    whats iran bill obama doesnt like washington c...  REAL\n",
       "19    chart explains everything need know partisansh...  REAL\n",
       "20    slippery slope trumps proposed muslims little ...  REAL\n",
       "21    episode  sunday wire hail deplorables special ...  FAKE\n",
       "22    hillary clinton makes bipartisan appeal staten...  REAL\n",
       "23    senate majority leaders main goal gop dont sca...  REAL\n",
       "24    inferno overpopulation myth misesorg november ...  FAKE\n",
       "25    antitrump forces seek lastditch delegate revol...  REAL\n",
       "26    sanders trounces clinton make difference meanw...  REAL\n",
       "27    donald trump changing campaign slogan prove he...  REAL\n",
       "28    pure chaos donald trumps campaign management o...  REAL\n",
       "29    syrian report november  syrian military deploy...  FAKE\n",
       "...                                                 ...   ...\n",
       "6305  colin kaepernick hosts know rights camp oaklan...  FAKE\n",
       "6306  wikileaks emails disclose aliens linked vatica...  FAKE\n",
       "6307  abstains vote calling cuban embargo abstains v...  FAKE\n",
       "6308  west fans laud aerodynamic properties pound co...  FAKE\n",
       "6309  obama white house runs foreign policy susan ri...  REAL\n",
       "6310  isis claims responsibility garland texas shoot...  REAL\n",
       "6311  blame left crew rights hebdo attack ly inevita...  REAL\n",
       "6312  adhd nation pharma created adhd epidemic kalee...  FAKE\n",
       "6313  donald trump claims election rigged critics ca...  FAKE\n",
       "6314  report dirty reporter blackmails montel help t...  FAKE\n",
       "6315  police arrest suspect charleston church shooti...  REAL\n",
       "6316  donald trumps collapse caused factor hillary c...  REAL\n",
       "6317  fina suspends russian swimmer years doping por...  FAKE\n",
       "6318  breaking hillary campaign manager deletes enti...  FAKE\n",
       "6319  cruz lose hampshire cruz took first prize iowa...  REAL\n",
       "6320  nothing good come thats good posted november  ...  FAKE\n",
       "6321  list republicans opposing trump offguardian ch...  FAKE\n",
       "6322  putin mythical russian military threat profita...  FAKE\n",
       "6323  bernie sanders says private meeting pope franc...  REAL\n",
       "6324  alabama lawmaker samesex couples dont deserve ...  REAL\n",
       "6325  media reset election stuck tabloid stuff writt...  FAKE\n",
       "6326  complaint comey fire partisan witch hunt hilla...  FAKE\n",
       "6327  senator david perdue jokes praying obamas deat...  REAL\n",
       "6328    radio derb airleonardo brazils miss pageant etc  FAKE\n",
       "6329  assange claims crazed clinton campaign tried h...  FAKE\n",
       "6330  state department says cant find emails clinton...  REAL\n",
       "6331  p stand pentagon p stand pentagon posted  wiki...  FAKE\n",
       "6332  antitrump protesters tools oligarchy informati...  FAKE\n",
       "6333  ethiopia obama seeks progress peace security e...  REAL\n",
       "6334  bush suddenly attacking trump heres matters bu...  REAL\n",
       "\n",
       "[6335 rows x 2 columns]"
      ]
     },
     "execution_count": 258,
     "metadata": {},
     "output_type": "execute_result"
    }
   ],
   "source": [
    "X= only_text_se\n",
    "y= df['label']\n",
    "\n",
    "\n",
    "Xy = pd.concat([X,y], axis=1)\n",
    "Xy"
   ]
  },
  {
   "cell_type": "code",
   "execution_count": null,
   "metadata": {
    "collapsed": true
   },
   "outputs": [],
   "source": []
  },
  {
   "cell_type": "code",
   "execution_count": 259,
   "metadata": {},
   "outputs": [
    {
     "name": "stdout",
     "output_type": "stream",
     "text": [
      "(3164, 2)\n",
      "(3171, 2)\n"
     ]
    },
    {
     "data": {
      "text/plain": [
       "label\n",
       "FAKE    3164\n",
       "REAL    3171\n",
       "Name: text, dtype: int64"
      ]
     },
     "execution_count": 259,
     "metadata": {},
     "output_type": "execute_result"
    }
   ],
   "source": [
    "#for separating each category\n",
    "X= only_text_se\n",
    "y= df['label']\n",
    "\n",
    "\n",
    "Xy = pd.concat([X,y], axis=1)\n",
    "\n",
    "fake = Xy[Xy['text'].notnull() & (Xy['label'] == \"FAKE\")]\n",
    "\n",
    "real = Xy[Xy['text'].notnull() & (Xy['label'] == \"REAL\")]\n",
    "\n",
    "\n",
    "print(fake.shape)\n",
    "print(real.shape)\n",
    "\n",
    "\n",
    "Xy.groupby(['label'])['text'].count()"
   ]
  },
  {
   "cell_type": "code",
   "execution_count": 260,
   "metadata": {
    "collapsed": true
   },
   "outputs": [],
   "source": [
    "#exporting to form word cloud\n",
    "fake = fake[['text']]\n",
    "real = real[['text']]\n",
    "\n",
    "fake.to_csv('fake.txt', header=None, index=None, sep=' ', mode='a')\n",
    "real.to_csv('real.txt', header=None, index=None, sep=' ', mode='a')\n",
    "\n",
    "\n",
    "#importing the text format\n",
    "with open('fake.txt', 'r') as input_file:\n",
    "    fake = input_file.read()\n",
    "    \n",
    "with open('real.txt', 'r') as input_file:\n",
    "    real = input_file.read()\n",
    "    \n",
    "\n"
   ]
  },
  {
   "cell_type": "code",
   "execution_count": 262,
   "metadata": {},
   "outputs": [
    {
     "data": {
      "image/png": "[encoded data removed]",
      "text/plain": [
       "<matplotlib.figure.Figure at 0x9019e80>"
      ]
     },
     "metadata": {},
     "output_type": "display_data"
    }
   ],
   "source": [
    "#fake word cloud\n",
    "import wordcloud\n",
    "wc = wordcloud.WordCloud()\n",
    "img = wc.generate_from_text(fake)\n",
    "import matplotlib.pyplot as plt\n",
    "%matplotlib inline\n",
    "plt.imshow(img)\n",
    "plt.show()"
   ]
  },
  {
   "cell_type": "code",
   "execution_count": 182,
   "metadata": {
    "collapsed": true
   },
   "outputs": [],
   "source": []
  },
  {
   "cell_type": "code",
   "execution_count": 263,
   "metadata": {},
   "outputs": [
    {
     "data": {
      "image/png": "[encoded data removed]",
      "text/plain": [
       "<matplotlib.figure.Figure at 0x1135d080>"
      ]
     },
     "metadata": {},
     "output_type": "display_data"
    }
   ],
   "source": [
    "#real word cloud\n",
    "import wordcloud\n",
    "wc = wordcloud.WordCloud()\n",
    "real = re.sub('real', '',real)\n",
    "img = wc.generate_from_text(real)\n",
    "import matplotlib.pyplot as plt\n",
    "%matplotlib inline\n",
    "plt.imshow(img)\n",
    "plt.show()"
   ]
  },
  {
   "cell_type": "code",
   "execution_count": null,
   "metadata": {
    "collapsed": true
   },
   "outputs": [],
   "source": []
  },
  {
   "cell_type": "code",
   "execution_count": null,
   "metadata": {
    "collapsed": true
   },
   "outputs": [],
   "source": []
  },
  {
   "cell_type": "code",
   "execution_count": null,
   "metadata": {
    "collapsed": true
   },
   "outputs": [],
   "source": []
  },
  {
   "cell_type": "code",
   "execution_count": 20,
   "metadata": {
    "collapsed": true
   },
   "outputs": [],
   "source": [
    "text =('The cat The dog has been barking sat on the wall The cat was roaming around kitchen The cat was chased by dog The cat and dog were running in the balcony')\n",
    "\n",
    "\n",
    "\n"
   ]
  },
  {
   "cell_type": "code",
   "execution_count": 21,
   "metadata": {},
   "outputs": [
    {
     "data": {
      "text/plain": [
       "153"
      ]
     },
     "execution_count": 21,
     "metadata": {},
     "output_type": "execute_result"
    }
   ],
   "source": [
    "len(text)"
   ]
  },
  {
   "cell_type": "code",
   "execution_count": 22,
   "metadata": {},
   "outputs": [
    {
     "ename": "AttributeError",
     "evalue": "'str' object has no attribute 'unique'",
     "output_type": "error",
     "traceback": [
      "\u001b[0;31m---------------------------------------------------------------------------\u001b[0m",
      "\u001b[0;31mAttributeError\u001b[0m                            Traceback (most recent call last)",
      "\u001b[0;32m<ipython-input-22-c3d3a950cd33>\u001b[0m in \u001b[0;36m<module>\u001b[0;34m()\u001b[0m\n\u001b[0;32m----> 1\u001b[0;31m \u001b[0mtext\u001b[0m\u001b[1;33m.\u001b[0m\u001b[0munique\u001b[0m\u001b[1;33m\u001b[0m\u001b[0m\n\u001b[0m",
      "\u001b[0;31mAttributeError\u001b[0m: 'str' object has no attribute 'unique'"
     ]
    }
   ],
   "source": [
    "text.unique"
   ]
  },
  {
   "cell_type": "code",
   "execution_count": 23,
   "metadata": {
    "collapsed": true
   },
   "outputs": [],
   "source": [
    "text = text.lower()"
   ]
  },
  {
   "cell_type": "code",
   "execution_count": 24,
   "metadata": {},
   "outputs": [
    {
     "name": "stdout",
     "output_type": "stream",
     "text": [
      "Counter({'the': 7, 'cat': 4, 'dog': 3, 'was': 2, 'and': 1, 'on': 1, 'by': 1, 'balcony': 1, 'barking': 1, 'wall': 1, 'around': 1, 'in': 1, 'chased': 1, 'been': 1, 'kitchen': 1, 'running': 1, 'were': 1, 'has': 1, 'roaming': 1, 'sat': 1})\n"
     ]
    }
   ],
   "source": [
    "from collections import Counter\n",
    "\n",
    "print Counter(text.split())"
   ]
  },
  {
   "cell_type": "code",
   "execution_count": null,
   "metadata": {
    "collapsed": true
   },
   "outputs": [],
   "source": []
  }
 ],
 "metadata": {
  "anaconda-cloud": {},
  "kernelspec": {
   "display_name": "Python [default]",
   "language": "python",
   "name": "python3"
  },
  "language_info": {
   "codemirror_mode": {
    "name": "ipython",
    "version": 3
   },
   "file_extension": ".py",
   "mimetype": "text/x-python",
   "name": "python",
   "nbconvert_exporter": "python",
   "pygments_lexer": "ipython3",
   "version": "3.6.1"
  }
 },
 "nbformat": 4,
 "nbformat_minor": 1
}
